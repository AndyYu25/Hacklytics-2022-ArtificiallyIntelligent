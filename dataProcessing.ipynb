{
 "cells": [
  {
   "cell_type": "code",
   "source": "\"\"\"\nProcessed data from the WIDER FACE dataset by isolating bounding boxes using Google Vision.\n\"\"\"\nfrom PIL import Image\nfrom google.cloud import vision\nimport os\nimport io\n#credentials\nos.environ['GOOGLE_APPLICATION_CREDENTIALS'] = '/work/hackalytics-2022-edddba28c1d0.json'\n\noutDir = \"/work/processedFaces\"\n\ndef detectFaces(imagePath)->list:\n    \"\"\"Detects faces in an image. \n    Takes in a bytes object representing an image.\n    Returns a list of tuples containing two corners \n    defining the bounding box of each image.\n    \"\"\"\n    outList = []\n    client = vision.ImageAnnotatorClient()\n    with io.open(imagePath, 'rb') as image_file:\n        content = image_file.read()\n    image = vision.Image(content=content)\n\n    response = client.face_detection(image=image)\n    faces = response.face_annotations\n\n    for face in faces:\n        vertices = ([(vertex.x, vertex.y) for vertex in face.bounding_poly.vertices])\n        outList.append((vertices[1], vertices[3]))\n    return outList\n\ndef processImage(imagePath, outDir):\n    \"\"\"\n    Given an image's filepath, return a series of images cropped to facial bounding boxes to outDir.\n    \"\"\"\n    im = Image.open(imagePath)\n    imName = imagePath.split('/')[-1]\n    for idx, bBox in enumerate(detectFaces(imagePath)):\n        topRight = bBox[0]\n        bottomLeft = bBox[1]\n        im1 = im.crop((bottomLeft[0], topRight[1], topRight[0], bottomLeft[1]))\n        if os.path.exists(outDir) == False:\n            os.makedirs(outDir)\n        im1.save(outDir + '/' + str(idx) + '-' + imName)\n        \n\n",
   "metadata": {
    "cell_id": "f7fb8446-0c7b-4b15-8bf2-c5041faabcf9",
    "tags": [],
    "deepnote_to_be_reexecuted": false,
    "source_hash": "a0532c4a",
    "execution_start": 1645348600080,
    "execution_millis": 830,
    "deepnote_cell_type": "code"
   },
   "outputs": [],
   "execution_count": null
  },
  {
   "cell_type": "code",
   "source": "outDir = \"/work/new_images\"\n\nfor subDir in os.listdir('/work/images'):\n    for images in os.listdir('/work/images/' + subDir):\n        processImage('/work/images/' + subDir + '/' + images, outDir + '/' + subDir)",
   "metadata": {
    "cell_id": "35fc9199-ba28-4579-a456-e91dff6a0394",
    "tags": [],
    "deepnote_to_be_reexecuted": false,
    "source_hash": "cf8c9cb6",
    "execution_start": 1645348600915,
    "execution_millis": 2136368,
    "deepnote_cell_type": "code"
   },
   "outputs": [],
   "execution_count": null
  },
  {
   "cell_type": "markdown",
   "source": "<a style='text-decoration:none;line-height:16px;display:flex;color:#5B5B62;padding:10px;justify-content:end;' href='https://deepnote.com?utm_source=created-in-deepnote-cell&projectId=d80e1763-e9c4-41f1-9d3f-7a71b565f358' target=\"_blank\">\n<img alt='Created in deepnote.com' style='display:inline;max-height:16px;margin:0px;margin-right:7.5px;' src='data:image/svg+xml;base64,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' > </img>\nCreated in <span style='font-weight:600;margin-left:4px;'>Deepnote</span></a>",
   "metadata": {
    "tags": [],
    "created_in_deepnote_cell": true,
    "deepnote_cell_type": "markdown"
   }
  }
 ],
 "nbformat": 4,
 "nbformat_minor": 2,
 "metadata": {
  "orig_nbformat": 2,
  "deepnote": {
   "is_reactive": false
  },
  "deepnote_notebook_id": "2bba1268-f992-4840-b99d-a000df3c5248",
  "deepnote_execution_queue": []
 }
}